{
 "cells": [
  {
   "cell_type": "code",
   "execution_count": 4,
   "metadata": {},
   "outputs": [
    {
     "name": "stdout",
     "output_type": "stream",
     "text": [
      "Your account balance was 10000 €\n",
      "You earned 75.0 € this year\n"
     ]
    }
   ],
   "source": [
    "savingsAccount = 10000\n",
    "rate = 0.75\n",
    "interest = savingsAccount * (rate/100)\n",
    "print(\"Your account balance was\", savingsAccount, \"€\\nYou earned\", interest, \"€ this year\")"
   ]
  },
  {
   "cell_type": "code",
   "execution_count": 5,
   "metadata": {},
   "outputs": [
    {
     "name": "stdout",
     "output_type": "stream",
     "text": [
      "75\n"
     ]
    }
   ],
   "source": [
    "print(int(interest))"
   ]
  },
  {
   "cell_type": "code",
   "execution_count": 2,
   "metadata": {},
   "outputs": [
    {
     "name": "stdout",
     "output_type": "stream",
     "text": [
      "Your savings are:  3500\n"
     ]
    }
   ],
   "source": [
    "account = 200\n",
    "savings = 3000\n",
    "    \n",
    "# TO DO: modify the following line with the simplified operator +=\n",
    "savings += 500\n",
    "\n",
    "print(\"Your savings are: \", savings)"
   ]
  },
  {
   "cell_type": "code",
   "execution_count": 10,
   "metadata": {},
   "outputs": [
    {
     "name": "stdout",
     "output_type": "stream",
     "text": [
      "i am excited!!\n",
      "i am calm!!\n"
     ]
    }
   ],
   "source": [
    "mySentence = 'I AM EXCITED!!'\n",
    "mySentence=mySentence.lower()\n",
    "print(mySentence)\n",
    "print(mySentence.replace('excited', 'calm'))"
   ]
  },
  {
   "cell_type": "code",
   "execution_count": 1,
   "metadata": {},
   "outputs": [
    {
     "data": {
      "text/plain": [
       "['Red', 'Blue', 'Purple', 'Green']"
      ]
     },
     "execution_count": 1,
     "metadata": {},
     "output_type": "execute_result"
    }
   ],
   "source": [
    "colors = ['Red', 'Blue', 'Purple', 'Green']\n",
    "colors"
   ]
  },
  {
   "cell_type": "code",
   "execution_count": 2,
   "metadata": {},
   "outputs": [
    {
     "data": {
      "text/plain": [
       "['Red', 'Blue', 'Purple', 'emerald']"
      ]
     },
     "execution_count": 2,
     "metadata": {},
     "output_type": "execute_result"
    }
   ],
   "source": [
    "colors[3] = 'emerald'\n",
    "colors"
   ]
  },
  {
   "cell_type": "code",
   "execution_count": 4,
   "metadata": {},
   "outputs": [
    {
     "name": "stdout",
     "output_type": "stream",
     "text": [
      "Red\n",
      "Blue\n",
      "Purple\n",
      "emerald\n"
     ]
    }
   ],
   "source": [
    "for color in colors:\n",
    "    print (color)"
   ]
  },
  {
   "cell_type": "code",
   "execution_count": 1,
   "metadata": {},
   "outputs": [
    {
     "name": "stdout",
     "output_type": "stream",
     "text": [
      "c is between a and b\n"
     ]
    }
   ],
   "source": [
    "a = 5\n",
    "b = 10\n",
    "c = 7\n",
    "\n",
    "if c < a :\n",
    "    print(\"c is smaller than a\")\n",
    "    \n",
    "if c > b :\n",
    "    print(\"c is greater than b\")\n",
    "    \n",
    "if c > a and c < b:\n",
    "    print(\"c is between a and b\")"
   ]
  },
  {
   "cell_type": "code",
   "execution_count": 2,
   "metadata": {},
   "outputs": [
    {
     "name": "stdout",
     "output_type": "stream",
     "text": [
      "OpenClassrooms is really great!\n",
      "OpenClassrooms is really great!\n",
      "OpenClassrooms is really great!\n",
      "OpenClassrooms is really great!\n",
      "OpenClassrooms is really great!\n"
     ]
    }
   ],
   "source": [
    "for i in range(5):\n",
    "    print(\"OpenClassrooms is really great!\")"
   ]
  },
  {
   "cell_type": "code",
   "execution_count": 2,
   "metadata": {},
   "outputs": [
    {
     "name": "stdout",
     "output_type": "stream",
     "text": [
      "OpenClassrooms is really great!\n",
      "OpenClassrooms is really great!\n",
      "OpenClassrooms is really great!\n",
      "OpenClassrooms is really great!\n",
      "OpenClassrooms is really great!\n"
     ]
    }
   ],
   "source": [
    "i = 5\n",
    "while (i > 0):\n",
    "    print(\"OpenClassrooms is really great!\")\n",
    "    i -= 1\n",
    "    "
   ]
  },
  {
   "cell_type": "code",
   "execution_count": 3,
   "metadata": {},
   "outputs": [],
   "source": [
    "import random\n",
    "    \n",
    "def balancedCoin():\n",
    "    if random.uniform(0,1) <= 0.5:\n",
    "        return 'tails'\n",
    "    else:\n",
    "        return 'heads'\n",
    "\n",
    "def coinGameA():\n",
    "    if random.uniform(0,1) <= 0.49:\n",
    "        return 'tails'\n",
    "    else:\n",
    "        return 'heads'\n",
    "    \n",
    "def coinGameB1():\n",
    "    if random.uniform(0,1) <= 0.09:\n",
    "        return 'tails'\n",
    "    else:\n",
    "        return 'heads'\n",
    "    \n",
    "def coinGameB2():\n",
    "    if random.random() <= 0.74:\n",
    "        return 'tails'\n",
    "    else:\n",
    "        return 'heads'"
   ]
  },
  {
   "cell_type": "code",
   "execution_count": 4,
   "metadata": {},
   "outputs": [
    {
     "name": "stdout",
     "output_type": "stream",
     "text": [
      "After 1000000 flips, we have $ 8002 of capital\n"
     ]
    }
   ],
   "source": [
    "capital = 1000\n",
    "nb_flips = 1000000\n",
    "\n",
    "for i in range(nb_flips):\n",
    "    coin_choice_game = balancedCoin()\n",
    "    \n",
    "    if coin_choice_game == 'tails':\n",
    "        coin = coinGameA() # we start on game A if the balanced coin falls on tails\n",
    "        if coin == 'tails':\n",
    "            capital += 1 # we earn one dollar if we get tails\n",
    "        else:\n",
    "            capital -= 1 # we lose $1 otherwise\n",
    "            \n",
    "    else: # we start on game B if the balanced coin falls on heads\n",
    "        if capital % 3 == 0: # we check if the capital is a multiple of 3 \n",
    "            coin = coinGameB1()\n",
    "        else:\n",
    "            coin = coinGameB2()\n",
    "\n",
    "        if coin == 'tails':\n",
    "            capital += 1 # we earn $1 if we get tails\n",
    "        else:\n",
    "            capital -= 1 # we lose $1 otherwise\n",
    "        \n",
    "\n",
    "print(\"After\", nb_flips, \"flips, we have $\", capital, \"of capital\")"
   ]
  },
  {
   "cell_type": "code",
   "execution_count": 6,
   "metadata": {},
   "outputs": [
    {
     "name": "stdout",
     "output_type": "stream",
     "text": [
      "m = 0.16455999999999998 and n = 0.1658\n"
     ]
    }
   ],
   "source": [
    "import random\n",
    "\n",
    "m = 0\n",
    "n = 0\n",
    "\n",
    "for i in range(5):\n",
    "   listOf = []\n",
    "   j = 0\n",
    "\n",
    "   while j < 10000:\n",
    "      listOf.append(random.randint(1, 6))\n",
    "      j += 1\n",
    "\n",
    "   subSampleOf = random.sample(listOf, 1000)\n",
    "   m += listOf.count(6)/10000\n",
    "   n += subSampleOf.count(4)/1000\n",
    "\n",
    "print(\"m =\", m/5, \"and n =\", n/5)"
   ]
  }
 ],
 "metadata": {
  "kernelspec": {
   "display_name": "Python 3",
   "language": "python",
   "name": "python3"
  },
  "language_info": {
   "codemirror_mode": {
    "name": "ipython",
    "version": 3
   },
   "file_extension": ".py",
   "mimetype": "text/x-python",
   "name": "python",
   "nbconvert_exporter": "python",
   "pygments_lexer": "ipython3",
   "version": "3.10.7"
  },
  "orig_nbformat": 4
 },
 "nbformat": 4,
 "nbformat_minor": 2
}
